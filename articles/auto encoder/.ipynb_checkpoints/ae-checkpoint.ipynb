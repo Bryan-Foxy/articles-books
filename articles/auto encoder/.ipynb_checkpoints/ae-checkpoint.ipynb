{
 "cells": [
  {
   "cell_type": "markdown",
   "id": "7c299edf-730d-4320-bb75-1ff53d5d3294",
   "metadata": {},
   "source": [
    "# Auto Encoder Implementation"
   ]
  },
  {
   "cell_type": "markdown",
   "id": "fe3afe28-988c-4437-9247-e3f27db9246e",
   "metadata": {},
   "source": [
    "## Setup and prepare datas"
   ]
  },
  {
   "cell_type": "code",
   "execution_count": 7,
   "id": "e6f9d245-88bd-4563-b3c8-357a61cb2960",
   "metadata": {
    "tags": []
   },
   "outputs": [],
   "source": [
    "import time\n",
    "import imageio\n",
    "import torch \n",
    "import torchvision\n",
    "import numpy as np \n",
    "import matplotlib.pyplot as plt\n",
    "from tqdm.auto import tqdm\n",
    "from torch.utils.tensorboard import SummaryWriter"
   ]
  },
  {
   "cell_type": "code",
   "execution_count": null,
   "id": "35cb2853-c396-431a-bbd8-69a5e9b77a93",
   "metadata": {},
   "outputs": [],
   "source": [
    "transform = torchvision.transforms.Compose([\n",
    "])"
   ]
  }
 ],
 "metadata": {
  "kernelspec": {
   "display_name": "Python 3 (ipykernel)",
   "language": "python",
   "name": "python3"
  },
  "language_info": {
   "codemirror_mode": {
    "name": "ipython",
    "version": 3
   },
   "file_extension": ".py",
   "mimetype": "text/x-python",
   "name": "python",
   "nbconvert_exporter": "python",
   "pygments_lexer": "ipython3",
   "version": "3.11.7"
  }
 },
 "nbformat": 4,
 "nbformat_minor": 5
}
